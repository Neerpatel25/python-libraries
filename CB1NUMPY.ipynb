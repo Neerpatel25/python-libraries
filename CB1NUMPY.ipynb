{
  "nbformat": 4,
  "nbformat_minor": 0,
  "metadata": {
    "colab": {
      "name": "CB1NUMPY.ipynb",
      "provenance": [],
      "collapsed_sections": [],
      "authorship_tag": "ABX9TyOvMlCVQlRAAdGoWrvmqf0y",
      "include_colab_link": true
    },
    "kernelspec": {
      "name": "python3",
      "display_name": "Python 3"
    },
    "language_info": {
      "name": "python"
    }
  },
  "cells": [
    {
      "cell_type": "markdown",
      "metadata": {
        "id": "view-in-github",
        "colab_type": "text"
      },
      "source": [
        "<a href=\"https://colab.research.google.com/github/Neerpatel25/python-libraries/blob/main/CB1NUMPY.ipynb\" target=\"_parent\"><img src=\"https://colab.research.google.com/assets/colab-badge.svg\" alt=\"Open In Colab\"/></a>"
      ]
    },
    {
      "cell_type": "code",
      "execution_count": null,
      "metadata": {
        "id": "_i0KAI4HXXS2",
        "colab": {
          "base_uri": "https://localhost:8080/"
        },
        "outputId": "191bf07c-cf35-4b11-853d-f1e8fd585132"
      },
      "outputs": [
        {
          "output_type": "stream",
          "name": "stdout",
          "text": [
            "[1 2 3 4 5]\n",
            "(5,)\n",
            "<class 'numpy.ndarray'>\n",
            "int64\n"
          ]
        }
      ],
      "source": [
        "import numpy as np\n",
        "a = np.array([1,2,3,4,5])\n",
        "print(a)\n",
        "print(a.shape)\n",
        "print(type(a)) # denote which structure is used list of array etc..\n",
        "print(a.dtype) # denote type of data in array"
      ]
    },
    {
      "cell_type": "code",
      "source": [
        "b=np.array([[1],[2],[3],[4],[5]])\n",
        "print(b)\n",
        "print(b.shape)"
      ],
      "metadata": {
        "colab": {
          "base_uri": "https://localhost:8080/"
        },
        "id": "g5pdC5YCcZyn",
        "outputId": "d9657c18-8529-4650-e110-ab1e198e7559"
      },
      "execution_count": null,
      "outputs": [
        {
          "output_type": "stream",
          "name": "stdout",
          "text": [
            "[[1]\n",
            " [2]\n",
            " [3]\n",
            " [4]\n",
            " [5]]\n",
            "(5, 1)\n"
          ]
        }
      ]
    },
    {
      "cell_type": "code",
      "source": [
        "c=np.array([[1,2,3],[4,5,6]])\n",
        "print(c)\n",
        "print(c.shape)\n",
        "print(c[1][1])"
      ],
      "metadata": {
        "colab": {
          "base_uri": "https://localhost:8080/"
        },
        "id": "v3QVvxE7c29Y",
        "outputId": "6f1ef85a-6196-4121-897a-356aef198228"
      },
      "execution_count": null,
      "outputs": [
        {
          "output_type": "stream",
          "name": "stdout",
          "text": [
            "[[1 2 3]\n",
            " [4 5 6]]\n",
            "(2, 3)\n",
            "5\n"
          ]
        }
      ]
    },
    {
      "cell_type": "code",
      "source": [
        "a=np.zeros((5,5))\n",
        "print(a)"
      ],
      "metadata": {
        "colab": {
          "base_uri": "https://localhost:8080/"
        },
        "id": "wjayF-ABdU1G",
        "outputId": "142573d9-9288-435c-8f7b-b3392273c88d"
      },
      "execution_count": null,
      "outputs": [
        {
          "output_type": "stream",
          "name": "stdout",
          "text": [
            "[[0. 0. 0. 0. 0.]\n",
            " [0. 0. 0. 0. 0.]\n",
            " [0. 0. 0. 0. 0.]\n",
            " [0. 0. 0. 0. 0.]\n",
            " [0. 0. 0. 0. 0.]]\n"
          ]
        }
      ]
    },
    {
      "cell_type": "code",
      "source": [
        "a=np.ones((5,5))\n",
        "print(a)"
      ],
      "metadata": {
        "colab": {
          "base_uri": "https://localhost:8080/"
        },
        "id": "ryBguihNddg_",
        "outputId": "c1eaf3e6-b188-4e04-ca56-8f974f15572e"
      },
      "execution_count": null,
      "outputs": [
        {
          "output_type": "stream",
          "name": "stdout",
          "text": [
            "[[1. 1. 1. 1. 1.]\n",
            " [1. 1. 1. 1. 1.]\n",
            " [1. 1. 1. 1. 1.]\n",
            " [1. 1. 1. 1. 1.]\n",
            " [1. 1. 1. 1. 1.]]\n"
          ]
        }
      ]
    },
    {
      "cell_type": "code",
      "source": [
        "c=np.full((5,5),7)\n",
        "print(c)"
      ],
      "metadata": {
        "colab": {
          "base_uri": "https://localhost:8080/"
        },
        "id": "uxQlWztddj8Q",
        "outputId": "aa61704f-4f3b-4271-c8ff-49cad90bbc02"
      },
      "execution_count": null,
      "outputs": [
        {
          "output_type": "stream",
          "name": "stdout",
          "text": [
            "[[7 7 7 7 7]\n",
            " [7 7 7 7 7]\n",
            " [7 7 7 7 7]\n",
            " [7 7 7 7 7]\n",
            " [7 7 7 7 7]]\n"
          ]
        }
      ]
    },
    {
      "cell_type": "code",
      "source": [
        "c=np.eye((4))\n",
        "print(c)"
      ],
      "metadata": {
        "colab": {
          "base_uri": "https://localhost:8080/"
        },
        "id": "HBBkW-JwdvIi",
        "outputId": "3f531834-9ac2-4c87-e128-0fb7cc1b0384"
      },
      "execution_count": null,
      "outputs": [
        {
          "output_type": "stream",
          "name": "stdout",
          "text": [
            "[[1. 0. 0. 0.]\n",
            " [0. 1. 0. 0.]\n",
            " [0. 0. 1. 0.]\n",
            " [0. 0. 0. 1.]]\n"
          ]
        }
      ]
    },
    {
      "cell_type": "code",
      "source": [
        "#Random matrix\n",
        "randommatrix=np.random.random((2,3))\n",
        "print(randommatrix)\n",
        "print(randommatrix[:,2])#all rows but only 2nd col\n",
        "#seting values\n",
        "randommatrix[1,0:3]=1\n",
        "print(randommatrix)"
      ],
      "metadata": {
        "colab": {
          "base_uri": "https://localhost:8080/"
        },
        "id": "R3q-Uf2Ud9Ij",
        "outputId": "a2e51514-138f-4210-f73c-da633c808518"
      },
      "execution_count": null,
      "outputs": [
        {
          "output_type": "stream",
          "name": "stdout",
          "text": [
            "[[0.2996197  0.09000634 0.75238884]\n",
            " [0.06724473 0.22841606 0.37684338]]\n",
            "[0.75238884 0.37684338]\n",
            "[[0.2996197  0.09000634 0.75238884]\n",
            " [1.         1.         1.        ]]\n"
          ]
        }
      ]
    },
    {
      "cell_type": "code",
      "source": [
        "#set some rows and cols with constant value\n",
        "z=np.zeros((3,3))\n",
        "print(z)\n",
        "z[1,:]=1 # first row and every columns =1\n",
        "print(z)\n",
        "z[:,-1]=7 #every row and last columns=7\n",
        "print(z)"
      ],
      "metadata": {
        "colab": {
          "base_uri": "https://localhost:8080/"
        },
        "id": "YFx_6Ugvey2C",
        "outputId": "dc33ec0b-9350-4ce3-d80a-addc459c06bd"
      },
      "execution_count": null,
      "outputs": [
        {
          "output_type": "stream",
          "name": "stdout",
          "text": [
            "[[0. 0. 0.]\n",
            " [0. 0. 0.]\n",
            " [0. 0. 0.]]\n",
            "[[0. 0. 0.]\n",
            " [1. 1. 1.]\n",
            " [0. 0. 0.]]\n",
            "[[0. 0. 7.]\n",
            " [1. 1. 7.]\n",
            " [0. 0. 7.]]\n"
          ]
        }
      ]
    },
    {
      "cell_type": "code",
      "source": [
        "#setting datatype\n",
        "z=np.zeros((3,3),dtype=np.int64)\n",
        "print(z.dtype)"
      ],
      "metadata": {
        "colab": {
          "base_uri": "https://localhost:8080/"
        },
        "id": "oEq8W_QXf1Hw",
        "outputId": "21b25854-e0c5-47fc-d6c5-fb0caa879e3e"
      },
      "execution_count": null,
      "outputs": [
        {
          "output_type": "stream",
          "name": "stdout",
          "text": [
            "int64\n"
          ]
        }
      ]
    },
    {
      "cell_type": "code",
      "source": [
        "#Mathematical operations\n",
        "x= np.array([[1,2],[3,4]])\n",
        "y= np.array([[5,6],[7,8]])\n",
        "print(x+y)\n",
        "print(np.add(x,y))\n",
        "\n",
        "print(x-y)\n",
        "print(np.subtract(x,y))\n",
        "\n",
        "print(x*y)\n",
        "print(np.multiply(x,y))\n",
        "\n",
        "print(x/y)\n",
        "print(np.divide(x,y))\n",
        "\n",
        "print(np.sqrt(x))\n"
      ],
      "metadata": {
        "colab": {
          "base_uri": "https://localhost:8080/"
        },
        "id": "41careYHgeU1",
        "outputId": "5b997986-7e60-451e-e271-47c1f7e44497"
      },
      "execution_count": null,
      "outputs": [
        {
          "output_type": "stream",
          "name": "stdout",
          "text": [
            "[[ 6  8]\n",
            " [10 12]]\n",
            "[[ 6  8]\n",
            " [10 12]]\n",
            "[[-4 -4]\n",
            " [-4 -4]]\n",
            "[[-4 -4]\n",
            " [-4 -4]]\n",
            "[[ 5 12]\n",
            " [21 32]]\n",
            "[[ 5 12]\n",
            " [21 32]]\n",
            "[[0.2        0.33333333]\n",
            " [0.42857143 0.5       ]]\n",
            "[[0.2        0.33333333]\n",
            " [0.42857143 0.5       ]]\n",
            "[[1.         1.41421356]\n",
            " [1.73205081 2.        ]]\n"
          ]
        }
      ]
    },
    {
      "cell_type": "code",
      "source": [
        "#Matrix Multiplication / dot product\n",
        "\n",
        "print(np.dot(x,y))\n",
        "\n",
        "print(x.dot(y))"
      ],
      "metadata": {
        "colab": {
          "base_uri": "https://localhost:8080/"
        },
        "id": "uInsOlF7hNus",
        "outputId": "dd5af45a-2a3a-45b4-e9c2-33a2ee6e18ab"
      },
      "execution_count": null,
      "outputs": [
        {
          "output_type": "stream",
          "name": "stdout",
          "text": [
            "[[19 22]\n",
            " [43 50]]\n",
            "[[19 22]\n",
            " [43 50]]\n"
          ]
        }
      ]
    },
    {
      "cell_type": "code",
      "source": [
        "#Multiplication of two vectors\n",
        "a = np.array([1,2,3,4,5])\n",
        "b=  np.array([1,2,3,4,5])\n",
        "print(np.dot(a,b))\n"
      ],
      "metadata": {
        "colab": {
          "base_uri": "https://localhost:8080/"
        },
        "id": "ipwv6n_fhbpK",
        "outputId": "640b1f4a-142b-40bb-b798-d20d970c6137"
      },
      "execution_count": null,
      "outputs": [
        {
          "output_type": "stream",
          "name": "stdout",
          "text": [
            "55\n"
          ]
        }
      ]
    },
    {
      "cell_type": "code",
      "source": [
        "a=[1,2,3,4]\n",
        "print(sum(a))\n",
        "x=np.array([[1,2],[3,4]])\n",
        "print(np.sum(x))\n",
        "print(np.sum(x,axis=0)) # sum col wise\n",
        "print(np.sum(x,axis=1)) # sum row wise"
      ],
      "metadata": {
        "colab": {
          "base_uri": "https://localhost:8080/"
        },
        "id": "e4BhGG6mhvQK",
        "outputId": "4eae930c-b02b-4a6e-920f-c3907964259f"
      },
      "execution_count": null,
      "outputs": [
        {
          "output_type": "stream",
          "name": "stdout",
          "text": [
            "10\n",
            "10\n",
            "[4 6]\n",
            "[3 7]\n"
          ]
        }
      ]
    },
    {
      "cell_type": "code",
      "source": [
        "#stacking of array\n",
        "a=np.array([1,2,3,4])\n",
        "b= np.array([4,16,36,64])\n",
        "print(np.stack((a,b),axis=0))#concate horizonatl\n",
        "print(np.stack((a,b),axis=1))#concate verticcal"
      ],
      "metadata": {
        "colab": {
          "base_uri": "https://localhost:8080/"
        },
        "id": "q1B1DYtaiXVC",
        "outputId": "fde28f49-0871-454c-9223-46631a71c65a"
      },
      "execution_count": null,
      "outputs": [
        {
          "output_type": "stream",
          "name": "stdout",
          "text": [
            "[[ 1  2  3  4]\n",
            " [ 4 16 36 64]]\n",
            "[[ 1  4]\n",
            " [ 2 16]\n",
            " [ 3 36]\n",
            " [ 4 64]]\n"
          ]
        }
      ]
    },
    {
      "cell_type": "code",
      "source": [
        "#Reshape a Numpy array\n",
        "a=np.array([[1,2,3,4],[4,16,36,64]]) # 2 rows 4 colums\n",
        "print(a)\n",
        "a=a.reshape((4,2)) # reshape 4 rows 2 cols\n",
        "print(a)\n",
        "a=a.reshape((4,-1))\n",
        "print(a)\n",
        "a=a.reshape((-1,4))\n",
        "print(a)"
      ],
      "metadata": {
        "colab": {
          "base_uri": "https://localhost:8080/"
        },
        "id": "FoIw3jB5jBrs",
        "outputId": "2d93d2a2-dcf0-4ad8-948a-201ec7c4feef"
      },
      "execution_count": null,
      "outputs": [
        {
          "output_type": "stream",
          "name": "stdout",
          "text": [
            "[[ 1  2  3  4]\n",
            " [ 4 16 36 64]]\n",
            "[[ 1  2]\n",
            " [ 3  4]\n",
            " [ 4 16]\n",
            " [36 64]]\n",
            "[[ 1  2]\n",
            " [ 3  4]\n",
            " [ 4 16]\n",
            " [36 64]]\n",
            "[[ 1  2  3  4]\n",
            " [ 4 16 36 64]]\n"
          ]
        }
      ]
    },
    {
      "cell_type": "code",
      "source": [
        "import numpy as np\n",
        "\n",
        "a=np.array([1,2,3,4])\n",
        "print(a)"
      ],
      "metadata": {
        "colab": {
          "base_uri": "https://localhost:8080/"
        },
        "id": "a2RV3gkD601_",
        "outputId": "8d77ad58-3299-4716-b446-98251fe6080e"
      },
      "execution_count": null,
      "outputs": [
        {
          "output_type": "stream",
          "name": "stdout",
          "text": [
            "[1 2 3 4]\n"
          ]
        }
      ]
    },
    {
      "cell_type": "code",
      "source": [
        "\n",
        "a=np.arange(10)\n",
        "print(a)\n"
      ],
      "metadata": {
        "colab": {
          "base_uri": "https://localhost:8080/"
        },
        "id": "XXW-TK_J7TAO",
        "outputId": "f95b0f8e-741f-4545-9c47-a3f5192ad234"
      },
      "execution_count": null,
      "outputs": [
        {
          "output_type": "stream",
          "name": "stdout",
          "text": [
            "[0 1 2 3 4 5 6 7 8 9]\n"
          ]
        }
      ]
    },
    {
      "cell_type": "code",
      "source": [
        "a=np.arange(10)+5\n",
        "print(a)"
      ],
      "metadata": {
        "colab": {
          "base_uri": "https://localhost:8080/"
        },
        "id": "WKuCE0688jQo",
        "outputId": "6a4ad3ee-39c2-4f94-ee7e-495173c14922"
      },
      "execution_count": null,
      "outputs": [
        {
          "output_type": "stream",
          "name": "stdout",
          "text": [
            "[ 5  6  7  8  9 10 11 12 13 14]\n"
          ]
        }
      ]
    },
    {
      "cell_type": "markdown",
      "source": [
        "NUMPY RANDOM MODULE\n"
      ],
      "metadata": {
        "id": "8Wof3EbP8tS7"
      }
    },
    {
      "cell_type": "code",
      "source": [
        "a=np.array([1,2,3,4,5])\n",
        "np.random.shuffle(a)\n",
        "print(a)"
      ],
      "metadata": {
        "colab": {
          "base_uri": "https://localhost:8080/"
        },
        "id": "deUCa32i89Ox",
        "outputId": "05127c02-4bf9-441e-ca77-3f08027591ff"
      },
      "execution_count": null,
      "outputs": [
        {
          "output_type": "stream",
          "name": "stdout",
          "text": [
            "[3 4 2 5 1]\n"
          ]
        }
      ]
    },
    {
      "cell_type": "code",
      "source": [
        "a=np.random.rand(2,3)\n",
        "print(a)"
      ],
      "metadata": {
        "colab": {
          "base_uri": "https://localhost:8080/"
        },
        "id": "P62Sw9l0-Gte",
        "outputId": "1878d789-ad57-4a43-db2a-4c42deae329e"
      },
      "execution_count": null,
      "outputs": [
        {
          "output_type": "stream",
          "name": "stdout",
          "text": [
            "[[0.47582131 0.62476397 0.31032241]\n",
            " [0.51966244 0.08119041 0.15362961]]\n"
          ]
        }
      ]
    },
    {
      "cell_type": "code",
      "source": [
        "a=np.random.randn(2,3) # in randn return values from standard normal distribution\n",
        "print(a)"
      ],
      "metadata": {
        "colab": {
          "base_uri": "https://localhost:8080/"
        },
        "id": "ORQ8Vjag-OEx",
        "outputId": "4a73293a-0fde-4b1d-f89c-1cc31a2bfa2e"
      },
      "execution_count": null,
      "outputs": [
        {
          "output_type": "stream",
          "name": "stdout",
          "text": [
            "[[-0.87686534  0.71702922  0.85616972]\n",
            " [-0.19981928  0.75419802  0.45805996]]\n"
          ]
        }
      ]
    },
    {
      "cell_type": "code",
      "source": [
        "#random pick one element from array\n",
        "ele=np.random.choice([1,4,2,5,6])\n",
        "print(ele)"
      ],
      "metadata": {
        "colab": {
          "base_uri": "https://localhost:8080/"
        },
        "id": "rfEL8vvs-bKY",
        "outputId": "3ed5405b-c592-4651-82df-f69a5022ef0c"
      },
      "execution_count": null,
      "outputs": [
        {
          "output_type": "stream",
          "name": "stdout",
          "text": [
            "5\n"
          ]
        }
      ]
    },
    {
      "cell_type": "code",
      "source": [
        "#pseduo random generate and repalce same random in each refresh\n",
        "np.random.seed(1)\n",
        "ele=np.random.choice([1,4,2,5,6])\n",
        "print(ele)"
      ],
      "metadata": {
        "id": "SbBHobqs-o4R"
      },
      "execution_count": null,
      "outputs": []
    },
    {
      "cell_type": "markdown",
      "source": [
        "**NUMPY MORE FUNCTIONS**"
      ],
      "metadata": {
        "id": "P70Uud_d_Jgw"
      }
    },
    {
      "cell_type": "code",
      "source": [
        "a= np.array([[1,2,3,4],[7,6,2,0]])\n",
        "print(a)"
      ],
      "metadata": {
        "colab": {
          "base_uri": "https://localhost:8080/"
        },
        "id": "nPxr5WyD_RgU",
        "outputId": "f74ffd82-66f1-4ac1-f9af-0bc6f6ba740a"
      },
      "execution_count": null,
      "outputs": [
        {
          "output_type": "stream",
          "name": "stdout",
          "text": [
            "[[1 2 3 4]\n",
            " [7 6 2 0]]\n"
          ]
        }
      ]
    },
    {
      "cell_type": "code",
      "source": [
        "print(np.min(a))\n",
        "print(np.min(a,axis=0))\n",
        "print(np.min(a,axis=1))\n",
        "\n",
        "print(np.max(a))\n",
        "print(np.max(a,axis=0))\n",
        "print(np.max(a,axis=1))\n"
      ],
      "metadata": {
        "colab": {
          "base_uri": "https://localhost:8080/"
        },
        "id": "qKSriLFq_c76",
        "outputId": "ab36b3ee-799c-4840-ada1-021e048a06bb"
      },
      "execution_count": null,
      "outputs": [
        {
          "output_type": "stream",
          "name": "stdout",
          "text": [
            "0\n",
            "[1 2 2 0]\n",
            "[1 0]\n",
            "7\n",
            "[7 6 3 4]\n",
            "[4 7]\n"
          ]
        }
      ]
    },
    {
      "cell_type": "code",
      "source": [
        "#mean\n",
        "b=np.array([1,2,3,4,5])\n",
        "print(np.mean(b))\n",
        "print(np.mean(a,axis=0))\n",
        "print(np.mean(a,axis=1))"
      ],
      "metadata": {
        "colab": {
          "base_uri": "https://localhost:8080/"
        },
        "id": "dXKxRaywAIYS",
        "outputId": "fcf4ffce-4750-4268-fdde-2dc2382ee544"
      },
      "execution_count": null,
      "outputs": [
        {
          "output_type": "stream",
          "name": "stdout",
          "text": [
            "3.0\n",
            "[4.  4.  2.5 2. ]\n",
            "[2.5  3.75]\n"
          ]
        }
      ]
    },
    {
      "cell_type": "code",
      "source": [
        "#median\n",
        "c=np.array([1,5,4,2,0])\n",
        "print(np.median(c))"
      ],
      "metadata": {
        "colab": {
          "base_uri": "https://localhost:8080/"
        },
        "id": "T3QLuuvlAkMw",
        "outputId": "29f03b6d-bb07-43e6-815a-d219aae79cc1"
      },
      "execution_count": null,
      "outputs": [
        {
          "output_type": "stream",
          "name": "stdout",
          "text": [
            "2.0\n"
          ]
        }
      ]
    },
    {
      "cell_type": "code",
      "source": [
        "#Mean Vs Average\n",
        "print(np.mean(c))\n",
        "w=np.array([1,2,3,4,5])\n",
        "print(np.average(c,weights=w))"
      ],
      "metadata": {
        "colab": {
          "base_uri": "https://localhost:8080/"
        },
        "id": "jY5Iv-klA2Ti",
        "outputId": "279d13a8-4549-4a10-b4a7-ebd1058eee87"
      },
      "execution_count": null,
      "outputs": [
        {
          "output_type": "stream",
          "name": "stdout",
          "text": [
            "2.4\n",
            "2.066666666666667\n"
          ]
        }
      ]
    },
    {
      "cell_type": "code",
      "source": [
        "#standard devation\n",
        "print(np.std(c))\n",
        "\n",
        "#variance\n",
        "print(np.var(c))"
      ],
      "metadata": {
        "colab": {
          "base_uri": "https://localhost:8080/"
        },
        "id": "e7x-orHwBhrD",
        "outputId": "2b2ac190-545b-40d6-b5ea-b1987fa74c5d"
      },
      "execution_count": null,
      "outputs": [
        {
          "output_type": "stream",
          "name": "stdout",
          "text": [
            "1.854723699099141\n",
            "3.4400000000000004\n"
          ]
        }
      ]
    }
  ]
}