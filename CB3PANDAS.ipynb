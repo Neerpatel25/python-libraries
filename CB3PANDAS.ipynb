{
  "nbformat": 4,
  "nbformat_minor": 0,
  "metadata": {
    "colab": {
      "name": "CB3PANDAS.ipynb",
      "provenance": [],
      "collapsed_sections": [],
      "authorship_tag": "ABX9TyNOAyz0tCpm6UU8tzxX70vO",
      "include_colab_link": true
    },
    "kernelspec": {
      "name": "python3",
      "display_name": "Python 3"
    },
    "language_info": {
      "name": "python"
    }
  },
  "cells": [
    {
      "cell_type": "markdown",
      "metadata": {
        "id": "view-in-github",
        "colab_type": "text"
      },
      "source": [
        "<a href=\"https://colab.research.google.com/github/Neerpatel25/python-libraries/blob/main/CB3PANDAS.ipynb\" target=\"_parent\"><img src=\"https://colab.research.google.com/assets/colab-badge.svg\" alt=\"Open In Colab\"/></a>"
      ]
    },
    {
      "cell_type": "code",
      "execution_count": null,
      "metadata": {
        "id": "fkR2I_iLBZvS"
      },
      "outputs": [],
      "source": [
        "import pandas as pd\n",
        "import numpy as np\n",
        "\n",
        "# Dataframe- Special object to data in tabular form row & columns"
      ]
    },
    {
      "cell_type": "code",
      "source": [
        "# we can convert any disctonries intp pandas as data\n",
        "user_data={\n",
        "    \"MarksA\":np.random.randint(1,100,5),\n",
        "    \"MarksB\":np.random.randint(50,100,5),\n",
        "    \"MarksC\":np.random.randint(1,100,5),\n",
        "}\n",
        "print(user_data)"
      ],
      "metadata": {
        "colab": {
          "base_uri": "https://localhost:8080/"
        },
        "id": "SJb3yXMr65HZ",
        "outputId": "7751444e-8d9f-4f7d-b68f-a0f05aea0d3e"
      },
      "execution_count": null,
      "outputs": [
        {
          "output_type": "stream",
          "name": "stdout",
          "text": [
            "{'MarksA': array([10, 45, 17, 50, 23]), 'MarksB': array([95, 78, 79, 52, 87]), 'MarksC': array([92, 98,  2, 30, 45])}\n"
          ]
        }
      ]
    },
    {
      "cell_type": "code",
      "source": [
        "#how to create dataframe from disctonaries\n",
        "df=pd.DataFrame(user_data)\n",
        "print(df)\n",
        "print(df.head()) # first five rows\n",
        "print(df.head(n=3)) #fisrt three rows\n",
        "print(df.tail()) # last five rows\n",
        "print(df.tail(n=3))#last three rows\n",
        "print(df.columns)# columns of dataframe"
      ],
      "metadata": {
        "colab": {
          "base_uri": "https://localhost:8080/"
        },
        "id": "DaLsupB_8qjj",
        "outputId": "ae272e67-19ff-43ff-f852-de15526b6da8"
      },
      "execution_count": null,
      "outputs": [
        {
          "output_type": "stream",
          "name": "stdout",
          "text": [
            "   MarksA  MarksB  MarksC\n",
            "0      10      95      92\n",
            "1      45      78      98\n",
            "2      17      79       2\n",
            "3      50      52      30\n",
            "4      23      87      45\n",
            "   MarksA  MarksB  MarksC\n",
            "0      10      95      92\n",
            "1      45      78      98\n",
            "2      17      79       2\n",
            "3      50      52      30\n",
            "4      23      87      45\n",
            "   MarksA  MarksB  MarksC\n",
            "0      10      95      92\n",
            "1      45      78      98\n",
            "2      17      79       2\n",
            "   MarksA  MarksB  MarksC\n",
            "0      10      95      92\n",
            "1      45      78      98\n",
            "2      17      79       2\n",
            "3      50      52      30\n",
            "4      23      87      45\n",
            "   MarksA  MarksB  MarksC\n",
            "2      17      79       2\n",
            "3      50      52      30\n",
            "4      23      87      45\n",
            "Index(['MarksA', 'MarksB', 'MarksC'], dtype='object')\n"
          ]
        }
      ]
    },
    {
      "cell_type": "code",
      "source": [
        "df=pd.DataFrame(user_data,dtype='float32')\n",
        "print(df)"
      ],
      "metadata": {
        "colab": {
          "base_uri": "https://localhost:8080/"
        },
        "id": "QrQeHrVE9Z0E",
        "outputId": "14d7cd5a-dc00-41c5-ad5f-11351ff5e339"
      },
      "execution_count": null,
      "outputs": [
        {
          "output_type": "stream",
          "name": "stdout",
          "text": [
            "   MarksA  MarksB  MarksC\n",
            "0    10.0    95.0    92.0\n",
            "1    45.0    78.0    98.0\n",
            "2    17.0    79.0     2.0\n",
            "3    50.0    52.0    30.0\n",
            "4    23.0    87.0    45.0\n"
          ]
        }
      ]
    },
    {
      "cell_type": "code",
      "source": [
        "#How yo convert dataframe into scv files\n",
        "df.to_csv('marks.csv') # made csv file from disctonaries\n",
        "\n",
        "\n",
        "my_data=pd.read_csv('marks.csv')#read from csv files\n",
        "print(my_data)"
      ],
      "metadata": {
        "colab": {
          "base_uri": "https://localhost:8080/"
        },
        "id": "-Dz3F3649lYv",
        "outputId": "297e8368-eaef-4dde-8cd1-c5fe04b35d3e"
      },
      "execution_count": null,
      "outputs": [
        {
          "output_type": "stream",
          "name": "stdout",
          "text": [
            "   Unnamed: 0  MarksA  MarksB  MarksC\n",
            "0           0    10.0    95.0    92.0\n",
            "1           1    45.0    78.0    98.0\n",
            "2           2    17.0    79.0     2.0\n",
            "3           3    50.0    52.0    30.0\n",
            "4           4    23.0    87.0    45.0\n"
          ]
        }
      ]
    },
    {
      "cell_type": "code",
      "source": [
        "# if you want drop some columns\n",
        "my_data=my_data.drop(columns=['Unnamed: 0'])\n",
        "print(my_data)\n"
      ],
      "metadata": {
        "colab": {
          "base_uri": "https://localhost:8080/"
        },
        "id": "HPeUcDIi-ErZ",
        "outputId": "b6c46842-3049-4c14-ee50-1c9e2c9d0842"
      },
      "execution_count": null,
      "outputs": [
        {
          "output_type": "stream",
          "name": "stdout",
          "text": [
            "   MarksA  MarksB  MarksC\n",
            "0    10.0    95.0    92.0\n",
            "1    45.0    78.0    98.0\n",
            "2    17.0    79.0     2.0\n",
            "3    50.0    52.0    30.0\n",
            "4    23.0    87.0    45.0\n"
          ]
        }
      ]
    },
    {
      "cell_type": "code",
      "source": [
        "# Give statics about data like mean, std, min etc...\n",
        "my_data.describe()"
      ],
      "metadata": {
        "colab": {
          "base_uri": "https://localhost:8080/",
          "height": 300
        },
        "id": "OGvfN-El-i45",
        "outputId": "4379610f-e9cb-4d64-896b-acb2a3799728"
      },
      "execution_count": null,
      "outputs": [
        {
          "output_type": "execute_result",
          "data": {
            "text/plain": [
              "          MarksA     MarksB     MarksC\n",
              "count   5.000000   5.000000   5.000000\n",
              "mean   29.000000  78.200000  53.400000\n",
              "std    17.592612  16.177144  41.046315\n",
              "min    10.000000  52.000000   2.000000\n",
              "25%    17.000000  78.000000  30.000000\n",
              "50%    23.000000  79.000000  45.000000\n",
              "75%    45.000000  87.000000  92.000000\n",
              "max    50.000000  95.000000  98.000000"
            ],
            "text/html": [
              "\n",
              "  <div id=\"df-d3d3a32a-c53a-4ab0-bdab-6dfdb8c14a98\">\n",
              "    <div class=\"colab-df-container\">\n",
              "      <div>\n",
              "<style scoped>\n",
              "    .dataframe tbody tr th:only-of-type {\n",
              "        vertical-align: middle;\n",
              "    }\n",
              "\n",
              "    .dataframe tbody tr th {\n",
              "        vertical-align: top;\n",
              "    }\n",
              "\n",
              "    .dataframe thead th {\n",
              "        text-align: right;\n",
              "    }\n",
              "</style>\n",
              "<table border=\"1\" class=\"dataframe\">\n",
              "  <thead>\n",
              "    <tr style=\"text-align: right;\">\n",
              "      <th></th>\n",
              "      <th>MarksA</th>\n",
              "      <th>MarksB</th>\n",
              "      <th>MarksC</th>\n",
              "    </tr>\n",
              "  </thead>\n",
              "  <tbody>\n",
              "    <tr>\n",
              "      <th>count</th>\n",
              "      <td>5.000000</td>\n",
              "      <td>5.000000</td>\n",
              "      <td>5.000000</td>\n",
              "    </tr>\n",
              "    <tr>\n",
              "      <th>mean</th>\n",
              "      <td>29.000000</td>\n",
              "      <td>78.200000</td>\n",
              "      <td>53.400000</td>\n",
              "    </tr>\n",
              "    <tr>\n",
              "      <th>std</th>\n",
              "      <td>17.592612</td>\n",
              "      <td>16.177144</td>\n",
              "      <td>41.046315</td>\n",
              "    </tr>\n",
              "    <tr>\n",
              "      <th>min</th>\n",
              "      <td>10.000000</td>\n",
              "      <td>52.000000</td>\n",
              "      <td>2.000000</td>\n",
              "    </tr>\n",
              "    <tr>\n",
              "      <th>25%</th>\n",
              "      <td>17.000000</td>\n",
              "      <td>78.000000</td>\n",
              "      <td>30.000000</td>\n",
              "    </tr>\n",
              "    <tr>\n",
              "      <th>50%</th>\n",
              "      <td>23.000000</td>\n",
              "      <td>79.000000</td>\n",
              "      <td>45.000000</td>\n",
              "    </tr>\n",
              "    <tr>\n",
              "      <th>75%</th>\n",
              "      <td>45.000000</td>\n",
              "      <td>87.000000</td>\n",
              "      <td>92.000000</td>\n",
              "    </tr>\n",
              "    <tr>\n",
              "      <th>max</th>\n",
              "      <td>50.000000</td>\n",
              "      <td>95.000000</td>\n",
              "      <td>98.000000</td>\n",
              "    </tr>\n",
              "  </tbody>\n",
              "</table>\n",
              "</div>\n",
              "      <button class=\"colab-df-convert\" onclick=\"convertToInteractive('df-d3d3a32a-c53a-4ab0-bdab-6dfdb8c14a98')\"\n",
              "              title=\"Convert this dataframe to an interactive table.\"\n",
              "              style=\"display:none;\">\n",
              "        \n",
              "  <svg xmlns=\"http://www.w3.org/2000/svg\" height=\"24px\"viewBox=\"0 0 24 24\"\n",
              "       width=\"24px\">\n",
              "    <path d=\"M0 0h24v24H0V0z\" fill=\"none\"/>\n",
              "    <path d=\"M18.56 5.44l.94 2.06.94-2.06 2.06-.94-2.06-.94-.94-2.06-.94 2.06-2.06.94zm-11 1L8.5 8.5l.94-2.06 2.06-.94-2.06-.94L8.5 2.5l-.94 2.06-2.06.94zm10 10l.94 2.06.94-2.06 2.06-.94-2.06-.94-.94-2.06-.94 2.06-2.06.94z\"/><path d=\"M17.41 7.96l-1.37-1.37c-.4-.4-.92-.59-1.43-.59-.52 0-1.04.2-1.43.59L10.3 9.45l-7.72 7.72c-.78.78-.78 2.05 0 2.83L4 21.41c.39.39.9.59 1.41.59.51 0 1.02-.2 1.41-.59l7.78-7.78 2.81-2.81c.8-.78.8-2.07 0-2.86zM5.41 20L4 18.59l7.72-7.72 1.47 1.35L5.41 20z\"/>\n",
              "  </svg>\n",
              "      </button>\n",
              "      \n",
              "  <style>\n",
              "    .colab-df-container {\n",
              "      display:flex;\n",
              "      flex-wrap:wrap;\n",
              "      gap: 12px;\n",
              "    }\n",
              "\n",
              "    .colab-df-convert {\n",
              "      background-color: #E8F0FE;\n",
              "      border: none;\n",
              "      border-radius: 50%;\n",
              "      cursor: pointer;\n",
              "      display: none;\n",
              "      fill: #1967D2;\n",
              "      height: 32px;\n",
              "      padding: 0 0 0 0;\n",
              "      width: 32px;\n",
              "    }\n",
              "\n",
              "    .colab-df-convert:hover {\n",
              "      background-color: #E2EBFA;\n",
              "      box-shadow: 0px 1px 2px rgba(60, 64, 67, 0.3), 0px 1px 3px 1px rgba(60, 64, 67, 0.15);\n",
              "      fill: #174EA6;\n",
              "    }\n",
              "\n",
              "    [theme=dark] .colab-df-convert {\n",
              "      background-color: #3B4455;\n",
              "      fill: #D2E3FC;\n",
              "    }\n",
              "\n",
              "    [theme=dark] .colab-df-convert:hover {\n",
              "      background-color: #434B5C;\n",
              "      box-shadow: 0px 1px 3px 1px rgba(0, 0, 0, 0.15);\n",
              "      filter: drop-shadow(0px 1px 2px rgba(0, 0, 0, 0.3));\n",
              "      fill: #FFFFFF;\n",
              "    }\n",
              "  </style>\n",
              "\n",
              "      <script>\n",
              "        const buttonEl =\n",
              "          document.querySelector('#df-d3d3a32a-c53a-4ab0-bdab-6dfdb8c14a98 button.colab-df-convert');\n",
              "        buttonEl.style.display =\n",
              "          google.colab.kernel.accessAllowed ? 'block' : 'none';\n",
              "\n",
              "        async function convertToInteractive(key) {\n",
              "          const element = document.querySelector('#df-d3d3a32a-c53a-4ab0-bdab-6dfdb8c14a98');\n",
              "          const dataTable =\n",
              "            await google.colab.kernel.invokeFunction('convertToInteractive',\n",
              "                                                     [key], {});\n",
              "          if (!dataTable) return;\n",
              "\n",
              "          const docLinkHtml = 'Like what you see? Visit the ' +\n",
              "            '<a target=\"_blank\" href=https://colab.research.google.com/notebooks/data_table.ipynb>data table notebook</a>'\n",
              "            + ' to learn more about interactive tables.';\n",
              "          element.innerHTML = '';\n",
              "          dataTable['output_type'] = 'display_data';\n",
              "          await google.colab.output.renderOutput(dataTable, element);\n",
              "          const docLink = document.createElement('div');\n",
              "          docLink.innerHTML = docLinkHtml;\n",
              "          element.appendChild(docLink);\n",
              "        }\n",
              "      </script>\n",
              "    </div>\n",
              "  </div>\n",
              "  "
            ]
          },
          "metadata": {},
          "execution_count": 15
        }
      ]
    },
    {
      "cell_type": "code",
      "source": [
        "df.iloc[3] # row 3"
      ],
      "metadata": {
        "colab": {
          "base_uri": "https://localhost:8080/"
        },
        "id": "tgjztGVx-yku",
        "outputId": "792d549b-b6e1-40c9-bf2b-b4bbcb0671c6"
      },
      "execution_count": null,
      "outputs": [
        {
          "output_type": "execute_result",
          "data": {
            "text/plain": [
              "MarksA    50.0\n",
              "MarksB    52.0\n",
              "MarksC    30.0\n",
              "Name: 3, dtype: float32"
            ]
          },
          "metadata": {},
          "execution_count": 16
        }
      ]
    },
    {
      "cell_type": "code",
      "source": [
        "df.iloc[3][1] # row 3 col 1"
      ],
      "metadata": {
        "colab": {
          "base_uri": "https://localhost:8080/"
        },
        "id": "Z6kyrFHu-9rw",
        "outputId": "aa04e745-1682-448f-83f7-63a5d4cbceb7"
      },
      "execution_count": null,
      "outputs": [
        {
          "output_type": "execute_result",
          "data": {
            "text/plain": [
              "52.0"
            ]
          },
          "metadata": {},
          "execution_count": 17
        }
      ]
    },
    {
      "cell_type": "code",
      "source": [
        "# to get location of any column with name\n",
        "idx= df.columns.get_loc('MarksB')\n",
        "df.iloc[3,idx]"
      ],
      "metadata": {
        "colab": {
          "base_uri": "https://localhost:8080/"
        },
        "id": "exKwHpi-_Dic",
        "outputId": "2a3a3a69-5f79-4d5a-8b11-bb3b0b313581"
      },
      "execution_count": null,
      "outputs": [
        {
          "output_type": "execute_result",
          "data": {
            "text/plain": [
              "52.0"
            ]
          },
          "metadata": {},
          "execution_count": 18
        }
      ]
    },
    {
      "cell_type": "code",
      "source": [
        "# you can create list\n",
        "idx=[df.columns.get_loc('MarksB'),df.columns.get_loc('MarksA')]\n",
        "print(idx)\n",
        "df.iloc[3,idx]\n"
      ],
      "metadata": {
        "colab": {
          "base_uri": "https://localhost:8080/"
        },
        "id": "YcNUJjka_Y8o",
        "outputId": "a5bb1845-45f5-407a-f071-1993569b9946"
      },
      "execution_count": null,
      "outputs": [
        {
          "output_type": "stream",
          "name": "stdout",
          "text": [
            "[1, 0]\n"
          ]
        },
        {
          "output_type": "execute_result",
          "data": {
            "text/plain": [
              "MarksB    52.0\n",
              "MarksA    50.0\n",
              "Name: 3, dtype: float32"
            ]
          },
          "metadata": {},
          "execution_count": 21
        }
      ]
    },
    {
      "cell_type": "code",
      "source": [
        "df.iloc[:3,idx]"
      ],
      "metadata": {
        "colab": {
          "base_uri": "https://localhost:8080/",
          "height": 143
        },
        "id": "i-KPiSYG_8dV",
        "outputId": "21c457e5-02e7-41af-93a2-a9370483c0d6"
      },
      "execution_count": null,
      "outputs": [
        {
          "output_type": "execute_result",
          "data": {
            "text/plain": [
              "   MarksB  MarksA\n",
              "0    95.0    10.0\n",
              "1    78.0    45.0\n",
              "2    79.0    17.0"
            ],
            "text/html": [
              "\n",
              "  <div id=\"df-2964c5ab-5dcf-4524-a61d-efd1220a684c\">\n",
              "    <div class=\"colab-df-container\">\n",
              "      <div>\n",
              "<style scoped>\n",
              "    .dataframe tbody tr th:only-of-type {\n",
              "        vertical-align: middle;\n",
              "    }\n",
              "\n",
              "    .dataframe tbody tr th {\n",
              "        vertical-align: top;\n",
              "    }\n",
              "\n",
              "    .dataframe thead th {\n",
              "        text-align: right;\n",
              "    }\n",
              "</style>\n",
              "<table border=\"1\" class=\"dataframe\">\n",
              "  <thead>\n",
              "    <tr style=\"text-align: right;\">\n",
              "      <th></th>\n",
              "      <th>MarksB</th>\n",
              "      <th>MarksA</th>\n",
              "    </tr>\n",
              "  </thead>\n",
              "  <tbody>\n",
              "    <tr>\n",
              "      <th>0</th>\n",
              "      <td>95.0</td>\n",
              "      <td>10.0</td>\n",
              "    </tr>\n",
              "    <tr>\n",
              "      <th>1</th>\n",
              "      <td>78.0</td>\n",
              "      <td>45.0</td>\n",
              "    </tr>\n",
              "    <tr>\n",
              "      <th>2</th>\n",
              "      <td>79.0</td>\n",
              "      <td>17.0</td>\n",
              "    </tr>\n",
              "  </tbody>\n",
              "</table>\n",
              "</div>\n",
              "      <button class=\"colab-df-convert\" onclick=\"convertToInteractive('df-2964c5ab-5dcf-4524-a61d-efd1220a684c')\"\n",
              "              title=\"Convert this dataframe to an interactive table.\"\n",
              "              style=\"display:none;\">\n",
              "        \n",
              "  <svg xmlns=\"http://www.w3.org/2000/svg\" height=\"24px\"viewBox=\"0 0 24 24\"\n",
              "       width=\"24px\">\n",
              "    <path d=\"M0 0h24v24H0V0z\" fill=\"none\"/>\n",
              "    <path d=\"M18.56 5.44l.94 2.06.94-2.06 2.06-.94-2.06-.94-.94-2.06-.94 2.06-2.06.94zm-11 1L8.5 8.5l.94-2.06 2.06-.94-2.06-.94L8.5 2.5l-.94 2.06-2.06.94zm10 10l.94 2.06.94-2.06 2.06-.94-2.06-.94-.94-2.06-.94 2.06-2.06.94z\"/><path d=\"M17.41 7.96l-1.37-1.37c-.4-.4-.92-.59-1.43-.59-.52 0-1.04.2-1.43.59L10.3 9.45l-7.72 7.72c-.78.78-.78 2.05 0 2.83L4 21.41c.39.39.9.59 1.41.59.51 0 1.02-.2 1.41-.59l7.78-7.78 2.81-2.81c.8-.78.8-2.07 0-2.86zM5.41 20L4 18.59l7.72-7.72 1.47 1.35L5.41 20z\"/>\n",
              "  </svg>\n",
              "      </button>\n",
              "      \n",
              "  <style>\n",
              "    .colab-df-container {\n",
              "      display:flex;\n",
              "      flex-wrap:wrap;\n",
              "      gap: 12px;\n",
              "    }\n",
              "\n",
              "    .colab-df-convert {\n",
              "      background-color: #E8F0FE;\n",
              "      border: none;\n",
              "      border-radius: 50%;\n",
              "      cursor: pointer;\n",
              "      display: none;\n",
              "      fill: #1967D2;\n",
              "      height: 32px;\n",
              "      padding: 0 0 0 0;\n",
              "      width: 32px;\n",
              "    }\n",
              "\n",
              "    .colab-df-convert:hover {\n",
              "      background-color: #E2EBFA;\n",
              "      box-shadow: 0px 1px 2px rgba(60, 64, 67, 0.3), 0px 1px 3px 1px rgba(60, 64, 67, 0.15);\n",
              "      fill: #174EA6;\n",
              "    }\n",
              "\n",
              "    [theme=dark] .colab-df-convert {\n",
              "      background-color: #3B4455;\n",
              "      fill: #D2E3FC;\n",
              "    }\n",
              "\n",
              "    [theme=dark] .colab-df-convert:hover {\n",
              "      background-color: #434B5C;\n",
              "      box-shadow: 0px 1px 3px 1px rgba(0, 0, 0, 0.15);\n",
              "      filter: drop-shadow(0px 1px 2px rgba(0, 0, 0, 0.3));\n",
              "      fill: #FFFFFF;\n",
              "    }\n",
              "  </style>\n",
              "\n",
              "      <script>\n",
              "        const buttonEl =\n",
              "          document.querySelector('#df-2964c5ab-5dcf-4524-a61d-efd1220a684c button.colab-df-convert');\n",
              "        buttonEl.style.display =\n",
              "          google.colab.kernel.accessAllowed ? 'block' : 'none';\n",
              "\n",
              "        async function convertToInteractive(key) {\n",
              "          const element = document.querySelector('#df-2964c5ab-5dcf-4524-a61d-efd1220a684c');\n",
              "          const dataTable =\n",
              "            await google.colab.kernel.invokeFunction('convertToInteractive',\n",
              "                                                     [key], {});\n",
              "          if (!dataTable) return;\n",
              "\n",
              "          const docLinkHtml = 'Like what you see? Visit the ' +\n",
              "            '<a target=\"_blank\" href=https://colab.research.google.com/notebooks/data_table.ipynb>data table notebook</a>'\n",
              "            + ' to learn more about interactive tables.';\n",
              "          element.innerHTML = '';\n",
              "          dataTable['output_type'] = 'display_data';\n",
              "          await google.colab.output.renderOutput(dataTable, element);\n",
              "          const docLink = document.createElement('div');\n",
              "          docLink.innerHTML = docLinkHtml;\n",
              "          element.appendChild(docLink);\n",
              "        }\n",
              "      </script>\n",
              "    </div>\n",
              "  </div>\n",
              "  "
            ]
          },
          "metadata": {},
          "execution_count": 22
        }
      ]
    },
    {
      "cell_type": "code",
      "source": [
        "# sort your dataframe\n",
        "my_data=my_data.sort_values(by=['MarksA'],ascending=True)\n",
        "print(my_data)"
      ],
      "metadata": {
        "colab": {
          "base_uri": "https://localhost:8080/"
        },
        "id": "Qo76jMHZAUnN",
        "outputId": "11bb65b6-b3ed-4b71-a1db-81be94b3bf64"
      },
      "execution_count": null,
      "outputs": [
        {
          "output_type": "stream",
          "name": "stdout",
          "text": [
            "   MarksA  MarksB  MarksC\n",
            "0    10.0    95.0    92.0\n",
            "2    17.0    79.0     2.0\n",
            "4    23.0    87.0    45.0\n",
            "1    45.0    78.0    98.0\n",
            "3    50.0    52.0    30.0\n"
          ]
        }
      ]
    },
    {
      "cell_type": "code",
      "source": [
        "my_data=my_data.sort_values(by=['MarksA'],ascending=False)\n",
        "print(my_data)"
      ],
      "metadata": {
        "colab": {
          "base_uri": "https://localhost:8080/"
        },
        "id": "Xs4oIp6-AtzO",
        "outputId": "f24aa916-a499-44d8-8f97-b72b2f6b3745"
      },
      "execution_count": null,
      "outputs": [
        {
          "output_type": "stream",
          "name": "stdout",
          "text": [
            "   MarksA  MarksB  MarksC\n",
            "3    50.0    52.0    30.0\n",
            "1    45.0    78.0    98.0\n",
            "4    23.0    87.0    45.0\n",
            "2    17.0    79.0     2.0\n",
            "0    10.0    95.0    92.0\n"
          ]
        }
      ]
    },
    {
      "cell_type": "code",
      "source": [
        "my_data=my_data.sort_values(by=['MarksC','MarksA'],ascending=False)\n",
        "print(my_data)"
      ],
      "metadata": {
        "colab": {
          "base_uri": "https://localhost:8080/"
        },
        "id": "Hm8B-ltxA00j",
        "outputId": "eae68515-b5fd-4764-eab0-8df80f4c61cf"
      },
      "execution_count": null,
      "outputs": [
        {
          "output_type": "stream",
          "name": "stdout",
          "text": [
            "   MarksA  MarksB  MarksC\n",
            "1    45.0    78.0    98.0\n",
            "0    10.0    95.0    92.0\n",
            "4    23.0    87.0    45.0\n",
            "3    50.0    52.0    30.0\n",
            "2    17.0    79.0     2.0\n"
          ]
        }
      ]
    },
    {
      "cell_type": "code",
      "source": [
        "data_array=my_data.values\n",
        "print(type(my_data))\n",
        "print(my_data.shape)\n",
        "print(data_array)\n",
        "print(type(data_array))\n",
        "print(data_array.shape)"
      ],
      "metadata": {
        "colab": {
          "base_uri": "https://localhost:8080/"
        },
        "id": "JwFBRVS1BpLy",
        "outputId": "9002a4e9-8ae6-487f-9e8a-060d12bd2c73"
      },
      "execution_count": null,
      "outputs": [
        {
          "output_type": "stream",
          "name": "stdout",
          "text": [
            "<class 'pandas.core.frame.DataFrame'>\n",
            "(5, 3)\n",
            "[[45. 78. 98.]\n",
            " [10. 95. 92.]\n",
            " [23. 87. 45.]\n",
            " [50. 52. 30.]\n",
            " [17. 79.  2.]]\n",
            "<class 'numpy.ndarray'>\n",
            "(5, 3)\n"
          ]
        }
      ]
    },
    {
      "cell_type": "code",
      "source": [
        "#Numpy Arrays back into data frame\n",
        "new_df=pd.DataFrame(data_array,dtype='int32',columns=['physics','chem','maths'])\n",
        "new_df.to_csv(\"PCM.csv\")\n",
        "pcm=pd.read_csv(\"PCM.csv\")\n",
        "print(pcm)"
      ],
      "metadata": {
        "colab": {
          "base_uri": "https://localhost:8080/"
        },
        "id": "k0r2ShZmCYTn",
        "outputId": "557275b8-6fa6-4b30-c1a7-29ece2db1e30"
      },
      "execution_count": null,
      "outputs": [
        {
          "output_type": "stream",
          "name": "stdout",
          "text": [
            "   Unnamed: 0  physics  chem  maths\n",
            "0           0       45    78     98\n",
            "1           1       10    95     92\n",
            "2           2       23    87     45\n",
            "3           3       50    52     30\n",
            "4           4       17    79      2\n"
          ]
        }
      ]
    },
    {
      "cell_type": "code",
      "source": [
        "new_df.to_csv(\"PCM.csv\",index=False)# without columns\n",
        "pcm=pd.read_csv(\"PCM.csv\")\n",
        "print(pcm)"
      ],
      "metadata": {
        "colab": {
          "base_uri": "https://localhost:8080/"
        },
        "id": "BzfwCK1GDA4V",
        "outputId": "2a7c3093-0152-46ec-8dd4-4c9ef67f26e6"
      },
      "execution_count": null,
      "outputs": [
        {
          "output_type": "stream",
          "name": "stdout",
          "text": [
            "   physics  chem  maths\n",
            "0       45    78     98\n",
            "1       10    95     92\n",
            "2       23    87     45\n",
            "3       50    52     30\n",
            "4       17    79      2\n"
          ]
        }
      ]
    }
  ]
}